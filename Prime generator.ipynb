{
 "cells": [
  {
   "cell_type": "markdown",
   "metadata": {},
   "source": [
    "# Creating dataset"
   ]
  },
  {
   "cell_type": "code",
   "execution_count": null,
   "metadata": {},
   "outputs": [],
   "source": [
    "import numpy as np\n",
    "import pandas as pd\n",
    "import math\n",
    "from IPython.display import clear_output\n",
    "def isprime(num):\n",
    "    clear_output()\n",
    "    print(\"running isprime()\")\n",
    "    for i in range(2,int(num/2)):\n",
    "        if(num%i==0):\n",
    "            return 0\n",
    "    return 1\n",
    "\n",
    "def find_sum_and_prod_of_digits(n):\n",
    "    tot=0\n",
    "    tot1=1\n",
    "    while(n>0):\n",
    "        dig = n%10\n",
    "        tot = tot+dig\n",
    "        tot1 = tot1*dig\n",
    "        n=n//10\n",
    "    return tot,tot1\n",
    "\n",
    "def prime_dataset_creator(start=None, end=None):\n",
    "    if(start==None and end==None):\n",
    "        print(\"Input Error Found Missing START and END Parameter\")\n",
    "        return None\n",
    "    elif(start==None):\n",
    "        print(\"Input Error Found Missing START Parameter\")\n",
    "        return None\n",
    "    elif(end==None):\n",
    "        print(\"Input Error Found Missing END Parameter\")\n",
    "        return None\n",
    "    df = pd.DataFrame()\n",
    "    prime =[]\n",
    "    num = []\n",
    "    msb = []\n",
    "    lsb = []\n",
    "    log2 = []\n",
    "    log10 = []\n",
    "    loge = []\n",
    "    divbypi = []\n",
    "    divbye = []\n",
    "    sqrt = []\n",
    "    cbrt = []\n",
    "    sumofdigit = []\n",
    "    sqrt_sumofdigit = []\n",
    "    cbrt_sumofdigit = []\n",
    "    prodofdigit = []\n",
    "    sqrt_prodofdigit = []\n",
    "    cbrt_prodofdigit = []\n",
    "    for i in range(start,end+1):\n",
    "        #to add the number num\n",
    "        num.append(i)\n",
    "        #to add the most significant digit\n",
    "        msb.append(str(i)[0])\n",
    "        #to add the least significant digit\n",
    "        lsb.append(str(i)[-1])\n",
    "        #to add log2(num)\n",
    "        log2.append(round(math.log(i,2)))\n",
    "        #to add log10(num)\n",
    "        log10.append(round(math.log(i,10)))\n",
    "        #to add loge(num)\n",
    "        loge.append(round(math.log(i,math.e)))\n",
    "        #to add num/pi\n",
    "        divbypi.append(round(i/math.pi))\n",
    "        #to add num/e\n",
    "        divbye.append(round(i/math.e))\n",
    "        #to add squareroot(num)\n",
    "        sqrt.append(round(math.sqrt(i)))\n",
    "        #to add cuberoot(num)\n",
    "        cbrt.append(round(i**(1./3.)))\n",
    "        #sod contains sum of digits & pod contains product of digits\n",
    "        sod,pod = find_sum_and_prod_of_digits(i)\n",
    "        #sod, squareroot(sod) and cuberoot(sod)\n",
    "        sumofdigit.append(sod)\n",
    "        sqrt_sumofdigit.append(round(math.sqrt(sod)))\n",
    "        cbrt_sumofdigit.append(round(sod**(1./3.)))\n",
    "        #pod, squareroot(pod) and cuberoot(pod)\n",
    "        prodofdigit.append(pod)\n",
    "        sqrt_prodofdigit.append(round(math.sqrt(pod)))\n",
    "        cbrt_prodofdigit.append(round(pod**(1./3.)))\n",
    "        #to find if is prime (1 - yes, 0 - no)\n",
    "        prime.append(isprime(i))\n",
    "        clear_output()\n",
    "        print(int((((i-start)/(end-start-1))*100)),\"% done - 1 out of 2\")\n",
    "    df['values'] = num\n",
    "    df['isprime'] = prime\n",
    "    df['lsb_digit'] = lsb\n",
    "    df['msb_digit'] = msb\n",
    "    df['log2'] = log2\n",
    "    df['log10'] = log10\n",
    "    df['loge'] = loge\n",
    "    df['Div_By_Pi'] = divbypi\n",
    "    df['Div_By_e'] = divbye\n",
    "    df['sqroot_number'] = sqrt\n",
    "    df['cuberoot_number'] = cbrt\n",
    "    df['Sum_Of_Digits'] = sumofdigit\n",
    "    df['sqrt_Sum_Of_Digits'] = sqrt_sumofdigit\n",
    "    df['cbrt_Sum_Of_Digits'] = cbrt_sumofdigit\n",
    "    df['Prod_Of_Digits'] = prodofdigit\n",
    "    df['sqrt_Prod_Of_Digits'] = sqrt_prodofdigit\n",
    "    df['cbrt_Prod_Of_Digits'] = cbrt_prodofdigit\n",
    "    \n",
    "    # for finding if mod of num by certain numbers and result of num divide by certain numbers\n",
    "    for j in range(2,20):\n",
    "        clear_output()\n",
    "        print(int((((i-start)/(end-start-1))*100)),\"% done - 2 out of 2\")\n",
    "        temp = []\n",
    "        temp1 = []\n",
    "        for i in range(start,end+1):\n",
    "            if(i%j==0):\n",
    "                temp.append(1)\n",
    "            else:\n",
    "                temp.append(0)\n",
    "            temp1.append(round(i/j))# using round for division \"div_by\" stuff\n",
    "        name_mod = \"Mod_of_\"+str(j) \n",
    "        df[name_mod]=temp\n",
    "        name_div = \"Div_by_\"+str(j) \n",
    "        df[name_div]=temp1\n",
    "    return df \n",
    "    \n",
    "    "
   ]
  },
  {
   "cell_type": "code",
   "execution_count": null,
   "metadata": {
    "scrolled": true
   },
   "outputs": [],
   "source": [
    "df1 = prime_dataset_creator(start = 2,end = 1000000)\n",
    "df1.head()"
   ]
  },
  {
   "cell_type": "code",
   "execution_count": null,
   "metadata": {},
   "outputs": [],
   "source": [
    "len(df1)"
   ]
  },
  {
   "cell_type": "code",
   "execution_count": null,
   "metadata": {},
   "outputs": [],
   "source": [
    "%%time\n",
    "df.to_csv(\"prime_number_training_dataset.csv\", encoding='utf-8', index=False)"
   ]
  },
  {
   "cell_type": "code",
   "execution_count": null,
   "metadata": {},
   "outputs": [],
   "source": []
  },
  {
   "cell_type": "markdown",
   "metadata": {},
   "source": [
    "# Let's start machine learning"
   ]
  },
  {
   "cell_type": "code",
   "execution_count": 1,
   "metadata": {},
   "outputs": [],
   "source": [
    "# No warnings\n",
    "import warnings\n",
    "warnings.filterwarnings('ignore') # Filter out warnings\n",
    "\n",
    "# data analysis and wrangling\n",
    "import pandas as pd\n",
    "import numpy as np\n",
    "\n",
    "# visualization\n",
    "#import matplotlib.pyplot as plt\n",
    "#%matplotlib inline\n",
    "import seaborn as sns\n",
    "import matplotlib.pyplot as plt\n",
    "%matplotlib inline\n",
    "import seaborn as sns\n",
    "from IPython.display import clear_output\n",
    "from IPython.display import clear_output\n",
    "\n",
    "from sklearn.model_selection import train_test_split\n",
    "\n",
    "# machine learning\n",
    "from sklearn.linear_model import LogisticRegression\n",
    "from sklearn.svm import SVC, LinearSVC\n",
    "from sklearn.ensemble import RandomForestClassifier\n",
    "from sklearn.neighbors import KNeighborsClassifier\n",
    "from sklearn.naive_bayes import GaussianNB # Gaussian Naive Bays\n",
    "from sklearn.linear_model import Perceptron\n",
    "from sklearn.tree import DecisionTreeClassifier\n",
    "from sklearn.tree import plot_tree\n",
    "\n",
    "import xgboost as xgb"
   ]
  },
  {
   "cell_type": "code",
   "execution_count": 2,
   "metadata": {
    "scrolled": false
   },
   "outputs": [
    {
     "data": {
      "text/html": [
       "<div>\n",
       "<style scoped>\n",
       "    .dataframe tbody tr th:only-of-type {\n",
       "        vertical-align: middle;\n",
       "    }\n",
       "\n",
       "    .dataframe tbody tr th {\n",
       "        vertical-align: top;\n",
       "    }\n",
       "\n",
       "    .dataframe thead th {\n",
       "        text-align: right;\n",
       "    }\n",
       "</style>\n",
       "<table border=\"1\" class=\"dataframe\">\n",
       "  <thead>\n",
       "    <tr style=\"text-align: right;\">\n",
       "      <th></th>\n",
       "      <th>isprime</th>\n",
       "      <th>values</th>\n",
       "      <th>Mod_of_2</th>\n",
       "      <th>Div_by_2</th>\n",
       "      <th>Mod_of_3</th>\n",
       "      <th>Div_by_3</th>\n",
       "      <th>Mod_of_4</th>\n",
       "      <th>Div_by_4</th>\n",
       "      <th>Mod_of_5</th>\n",
       "      <th>Div_by_5</th>\n",
       "      <th>...</th>\n",
       "      <th>loge</th>\n",
       "      <th>productofdigits</th>\n",
       "      <th>sqroot_productofdigits</th>\n",
       "      <th>cuberoot_productofdigits</th>\n",
       "      <th>cuberoot_sumofdigits</th>\n",
       "      <th>sqroot_sumofdigits</th>\n",
       "      <th>sqroot_number</th>\n",
       "      <th>cuberoot_number</th>\n",
       "      <th>DivByPi</th>\n",
       "      <th>DivBy_e</th>\n",
       "    </tr>\n",
       "  </thead>\n",
       "  <tbody>\n",
       "    <tr>\n",
       "      <th>0</th>\n",
       "      <td>1</td>\n",
       "      <td>2</td>\n",
       "      <td>1</td>\n",
       "      <td>1</td>\n",
       "      <td>0</td>\n",
       "      <td>0</td>\n",
       "      <td>0</td>\n",
       "      <td>0</td>\n",
       "      <td>0</td>\n",
       "      <td>0</td>\n",
       "      <td>...</td>\n",
       "      <td>0.693147</td>\n",
       "      <td>2</td>\n",
       "      <td>1.414214</td>\n",
       "      <td>1.259921</td>\n",
       "      <td>1.259921</td>\n",
       "      <td>1.414214</td>\n",
       "      <td>1.414214</td>\n",
       "      <td>1.259921</td>\n",
       "      <td>0.636620</td>\n",
       "      <td>0.735759</td>\n",
       "    </tr>\n",
       "    <tr>\n",
       "      <th>1</th>\n",
       "      <td>1</td>\n",
       "      <td>3</td>\n",
       "      <td>0</td>\n",
       "      <td>1</td>\n",
       "      <td>1</td>\n",
       "      <td>1</td>\n",
       "      <td>0</td>\n",
       "      <td>0</td>\n",
       "      <td>0</td>\n",
       "      <td>0</td>\n",
       "      <td>...</td>\n",
       "      <td>1.098612</td>\n",
       "      <td>3</td>\n",
       "      <td>1.732051</td>\n",
       "      <td>1.442250</td>\n",
       "      <td>1.442250</td>\n",
       "      <td>1.732051</td>\n",
       "      <td>1.732051</td>\n",
       "      <td>1.442250</td>\n",
       "      <td>0.954930</td>\n",
       "      <td>1.103638</td>\n",
       "    </tr>\n",
       "    <tr>\n",
       "      <th>2</th>\n",
       "      <td>0</td>\n",
       "      <td>4</td>\n",
       "      <td>1</td>\n",
       "      <td>2</td>\n",
       "      <td>0</td>\n",
       "      <td>1</td>\n",
       "      <td>1</td>\n",
       "      <td>1</td>\n",
       "      <td>0</td>\n",
       "      <td>0</td>\n",
       "      <td>...</td>\n",
       "      <td>1.386294</td>\n",
       "      <td>4</td>\n",
       "      <td>2.000000</td>\n",
       "      <td>1.587401</td>\n",
       "      <td>1.587401</td>\n",
       "      <td>2.000000</td>\n",
       "      <td>2.000000</td>\n",
       "      <td>1.587401</td>\n",
       "      <td>1.273240</td>\n",
       "      <td>1.471518</td>\n",
       "    </tr>\n",
       "    <tr>\n",
       "      <th>3</th>\n",
       "      <td>1</td>\n",
       "      <td>5</td>\n",
       "      <td>0</td>\n",
       "      <td>2</td>\n",
       "      <td>0</td>\n",
       "      <td>1</td>\n",
       "      <td>0</td>\n",
       "      <td>1</td>\n",
       "      <td>1</td>\n",
       "      <td>1</td>\n",
       "      <td>...</td>\n",
       "      <td>1.609438</td>\n",
       "      <td>5</td>\n",
       "      <td>2.236068</td>\n",
       "      <td>1.709976</td>\n",
       "      <td>1.709976</td>\n",
       "      <td>2.236068</td>\n",
       "      <td>2.236068</td>\n",
       "      <td>1.709976</td>\n",
       "      <td>1.591549</td>\n",
       "      <td>1.839397</td>\n",
       "    </tr>\n",
       "    <tr>\n",
       "      <th>4</th>\n",
       "      <td>0</td>\n",
       "      <td>6</td>\n",
       "      <td>1</td>\n",
       "      <td>3</td>\n",
       "      <td>1</td>\n",
       "      <td>2</td>\n",
       "      <td>0</td>\n",
       "      <td>1</td>\n",
       "      <td>0</td>\n",
       "      <td>1</td>\n",
       "      <td>...</td>\n",
       "      <td>1.791759</td>\n",
       "      <td>6</td>\n",
       "      <td>2.449490</td>\n",
       "      <td>1.817121</td>\n",
       "      <td>1.817121</td>\n",
       "      <td>2.449490</td>\n",
       "      <td>2.449490</td>\n",
       "      <td>1.817121</td>\n",
       "      <td>1.909859</td>\n",
       "      <td>2.207277</td>\n",
       "    </tr>\n",
       "  </tbody>\n",
       "</table>\n",
       "<p>5 rows × 53 columns</p>\n",
       "</div>"
      ],
      "text/plain": [
       "   isprime  values  Mod_of_2  Div_by_2  Mod_of_3  Div_by_3  Mod_of_4  \\\n",
       "0        1       2         1         1         0         0         0   \n",
       "1        1       3         0         1         1         1         0   \n",
       "2        0       4         1         2         0         1         1   \n",
       "3        1       5         0         2         0         1         0   \n",
       "4        0       6         1         3         1         2         0   \n",
       "\n",
       "   Div_by_4  Mod_of_5  Div_by_5  ...      loge  productofdigits  \\\n",
       "0         0         0         0  ...  0.693147                2   \n",
       "1         0         0         0  ...  1.098612                3   \n",
       "2         1         0         0  ...  1.386294                4   \n",
       "3         1         1         1  ...  1.609438                5   \n",
       "4         1         0         1  ...  1.791759                6   \n",
       "\n",
       "   sqroot_productofdigits  cuberoot_productofdigits  cuberoot_sumofdigits  \\\n",
       "0                1.414214                  1.259921              1.259921   \n",
       "1                1.732051                  1.442250              1.442250   \n",
       "2                2.000000                  1.587401              1.587401   \n",
       "3                2.236068                  1.709976              1.709976   \n",
       "4                2.449490                  1.817121              1.817121   \n",
       "\n",
       "   sqroot_sumofdigits  sqroot_number  cuberoot_number   DivByPi   DivBy_e  \n",
       "0            1.414214       1.414214         1.259921  0.636620  0.735759  \n",
       "1            1.732051       1.732051         1.442250  0.954930  1.103638  \n",
       "2            2.000000       2.000000         1.587401  1.273240  1.471518  \n",
       "3            2.236068       2.236068         1.709976  1.591549  1.839397  \n",
       "4            2.449490       2.449490         1.817121  1.909859  2.207277  \n",
       "\n",
       "[5 rows x 53 columns]"
      ]
     },
     "execution_count": 2,
     "metadata": {},
     "output_type": "execute_result"
    }
   ],
   "source": [
    "df = pd.read_csv(\"prime_number_training_dataset.csv\")\n",
    "df.head()"
   ]
  },
  {
   "cell_type": "code",
   "execution_count": 3,
   "metadata": {},
   "outputs": [
    {
     "data": {
      "text/plain": [
       "Index(['isprime', 'values', 'Mod_of_2', 'Div_by_2', 'Mod_of_3', 'Div_by_3',\n",
       "       'Mod_of_4', 'Div_by_4', 'Mod_of_5', 'Div_by_5', 'Mod_of_6', 'Div_by_6',\n",
       "       'Mod_of_7', 'Div_by_7', 'Mod_of_8', 'Div_by_8', 'Mod_of_9', 'Div_by_9',\n",
       "       'Mod_of_10', 'Div_by_10', 'Mod_of_11', 'Div_by_11', 'Mod_of_12',\n",
       "       'Div_by_12', 'Mod_of_13', 'Div_by_13', 'Mod_of_14', 'Div_by_14',\n",
       "       'Mod_of_15', 'Div_by_15', 'Mod_of_16', 'Div_by_16', 'Mod_of_17',\n",
       "       'Div_by_17', 'Mod_of_18', 'Div_by_18', 'Mod_of_19', 'Div_by_19',\n",
       "       'Sum of digits', 'lsb_digit', 'msb_digit', 'log2', 'log10', 'loge',\n",
       "       'productofdigits', 'sqroot_productofdigits', 'cuberoot_productofdigits',\n",
       "       'cuberoot_sumofdigits', 'sqroot_sumofdigits', 'sqroot_number',\n",
       "       'cuberoot_number', 'DivByPi', 'DivBy_e'],\n",
       "      dtype='object')"
      ]
     },
     "execution_count": 3,
     "metadata": {},
     "output_type": "execute_result"
    }
   ],
   "source": [
    "df.columns"
   ]
  },
  {
   "cell_type": "code",
   "execution_count": 4,
   "metadata": {},
   "outputs": [],
   "source": [
    "sns.set(style='white', context='notebook', palette='deep')\n",
    "plt.rcParams[ 'figure.figsize' ] = 20 , 12\n",
    "\n",
    "pd.set_option('display.max_columns', 100) # Print 100 Pandas columns\n",
    "\n",
    "# Special distribution plot (will be used later)\n",
    "def plot_distribution( df , var , target , **kwargs ):\n",
    "    row = kwargs.get( 'row' , None )\n",
    "    col = kwargs.get( 'col' , None )\n",
    "    facet = sns.FacetGrid( df , hue=target , aspect=4 , row = row , col = col )\n",
    "    facet.map( sns.kdeplot , var , shade= True )\n",
    "    facet.set( xlim=( 0 , df[ var ].max() ) )\n",
    "    facet.add_legend()\n",
    "    plt.tight_layout()"
   ]
  },
  {
   "cell_type": "markdown",
   "metadata": {},
   "source": [
    "# Initial testing"
   ]
  },
  {
   "cell_type": "code",
   "execution_count": null,
   "metadata": {},
   "outputs": [],
   "source": [
    "np.random.seed(1337) \n",
    "X = df.drop(\"isprime\", axis=1) # Training & Validation data\n",
    "Y = df[\"isprime\"]              # Response / Target Variable\n",
    "X_train, X_test, Y_train, Y_test = train_test_split(X, Y, test_size=0.20)"
   ]
  },
  {
   "cell_type": "code",
   "execution_count": null,
   "metadata": {},
   "outputs": [],
   "source": [
    "%%time\n",
    "logreg = LogisticRegression()                                # instantiate\n",
    "logreg.fit(X_train, Y_train)                                 # fit\n",
    "Y_pred = logreg.predict(X_test)                               # predict\n",
    "acc_logreg = sum(Y_pred == Y_test)/len(Y_test)*100                # evaluate\n",
    "\n",
    "print('Logistic Regression labeling accuracy:', str(round(acc_logreg,2)),'%')"
   ]
  },
  {
   "cell_type": "markdown",
   "metadata": {},
   "source": [
    "Logistic Regression labeling accuracy: 92.24 %\n",
    "\n",
    "CPU times: user 7.46 s, sys: 510 ms, total: 7.97 s\n",
    "\n",
    "Wall time: 8.11 s"
   ]
  },
  {
   "cell_type": "code",
   "execution_count": null,
   "metadata": {},
   "outputs": [],
   "source": [
    "%%time\n",
    "knn = KNeighborsClassifier(n_neighbors = 3)                  # instantiate\n",
    "knn.fit(X_train, Y_train)                                    # fit\n",
    "acc_knn = knn.score(X_test, Y_test)                            # predict + evaluate\n",
    "\n",
    "print('K-Nearest Neighbors labeling accuracy:', str(round(acc_knn*100,2)),'%')"
   ]
  },
  {
   "cell_type": "markdown",
   "metadata": {},
   "source": [
    "K-Nearest Neighbors labeling accuracy: 91.01 %\n",
    "\n",
    "CPU times: user 21.1 s, sys: 350 ms, total: 21.4 s\n",
    "\n",
    "Wall time: 21.5 s"
   ]
  },
  {
   "cell_type": "code",
   "execution_count": null,
   "metadata": {},
   "outputs": [],
   "source": [
    "%%time\n",
    "perceptron = Perceptron()                                    # instantiate \n",
    "perceptron.fit(X_train, Y_train)                             # fit\n",
    "acc_perceptron = perceptron.score(X_test, Y_test)                 # predict + evalaute\n",
    "\n",
    "print('Perceptron labeling accuracy:', str(round(acc_perceptron*100,2)),'%')"
   ]
  },
  {
   "cell_type": "markdown",
   "metadata": {},
   "source": [
    "Perceptron labeling accuracy: 91.71 %\n",
    "\n",
    "CPU times: user 2.29 s, sys: 278 ms, total: 2.57 s\n",
    "\n",
    "Wall time: 2.56 s"
   ]
  },
  {
   "cell_type": "code",
   "execution_count": null,
   "metadata": {},
   "outputs": [],
   "source": [
    "%%time\n",
    "gradboost = xgb.XGBClassifier(n_estimators=1000)             # instantiate\n",
    "gradboost.fit(X_train, Y_train)                              # fit\n",
    "acc_xgboost = gradboost.score(X_test, Y_test)                # predict + evalute\n",
    "\n",
    "print('XGBoost labeling accuracy:', str(round(acc_xgboost*100,2)),'%')"
   ]
  },
  {
   "cell_type": "markdown",
   "metadata": {},
   "source": [
    "XGBoost labeling accuracy: 92.4 %\n",
    "    \n",
    "CPU times: user 44min 30s, sys: 8.77 s, total: 44min 38s\n",
    "            \n",
    "Wall time: 44min 46s"
   ]
  },
  {
   "cell_type": "code",
   "execution_count": null,
   "metadata": {},
   "outputs": [],
   "source": [
    "%%time\n",
    "random_forest = RandomForestClassifier(n_estimators=500)   # instantiate\n",
    "random_forest.fit(X_train, Y_train)                         # fit\n",
    "acc_rf = random_forest.score(X_test, Y_test)                  # predict + evaluate\n",
    "\n",
    "print('Random Forest labeling accuracy:', str(round(acc_rf*100,2)),'%')"
   ]
  },
  {
   "cell_type": "markdown",
   "metadata": {},
   "source": [
    "Random Forest labeling accuracy: 91.64 %\n",
    "    \n",
    "CPU times: user 34min 48s, sys: 10.6 s, total: 34min 58s\n",
    "            \n",
    "Wall time: 35min"
   ]
  },
  {
   "cell_type": "markdown",
   "metadata": {},
   "source": [
    "# As we got the best results for logistic regression, let's try to improve it further. \n",
    "# (We cannot do much with hyperparameters due to binary output)"
   ]
  },
  {
   "cell_type": "code",
   "execution_count": null,
   "metadata": {},
   "outputs": [],
   "source": [
    "%%time\n",
    "np.random.seed(1337) \n",
    "X = df.drop(\"isprime\", axis=1) # Training & Validation data\n",
    "Y = df[\"isprime\"]           \n",
    "#X = df.drop(l1, axis=1) # Training & Validation data\n",
    "Y = df[\"isprime\"]              # Response / Target Variable\n",
    "X_train, X_test, Y_train, Y_test = train_test_split(X, Y, test_size=0.20)\n",
    "logreg = LogisticRegression()                                # instantiate\n",
    "logreg.fit(X_train, Y_train)                                 # fit\n",
    "Y_pred = logreg.predict(X_test)                               # predict\n",
    "acc_logreg = sum(Y_pred == Y_test)/len(Y_test)*100                # evaluate\n",
    "print(acc_logreg)"
   ]
  },
  {
   "cell_type": "markdown",
   "metadata": {},
   "source": [
    "92.23599999999999\n",
    "\n",
    "CPU times: user 7.44 s, sys: 600 ms, total: 8.04 s\n",
    "\n",
    "Wall time: 8.01 s"
   ]
  },
  {
   "cell_type": "code",
   "execution_count": null,
   "metadata": {},
   "outputs": [],
   "source": [
    "%%time\n",
    "np.random.seed(1337) # set random seed for reproducibility\n",
    "lq = [0.15,0.18,0.20]\n",
    "num1list = [15,20,50]\n",
    "for num1 in num1list:\n",
    "    finalans = []\n",
    "    for j in lq:    \n",
    "        m=[]\n",
    "        for i in range(0,num1):    \n",
    "            X = df.drop(\"isprime\", axis=1) # Training & Validation data\n",
    "            Y = df[\"isprime\"]           \n",
    "            #X = df.drop(l1, axis=1) # Training & Validation data\n",
    "            Y = df[\"isprime\"]              # Response / Target Variable\n",
    "            X_train, X_test, Y_train, Y_test = train_test_split(X, Y, test_size=j)\n",
    "            logreg = LogisticRegression()                                # instantiate\n",
    "            logreg.fit(X_train, Y_train)                                 # fit\n",
    "            Y_pred = logreg.predict(X_test)                               # predict\n",
    "            acc_logreg = sum(Y_pred == Y_test)/len(Y_test)*100                # evaluate\n",
    "            m.append(acc_logreg)\n",
    "            #clear_output()\n",
    "            #print(j,\"->\",int(i*5),\"%\")\n",
    "        finalans.append(sum(m)/num1)\n",
    "    print(num1,\"->\",finalans)"
   ]
  },
  {
   "cell_type": "markdown",
   "metadata": {},
   "source": [
    "# Results\n",
    "\n",
    "                   15%             18%            20%   \n",
    "TRY 3 -> 50 -> [92.15209333333335, 92.16923333333335, 92.14147999999999]\n",
    "\n",
    "TRY 2 -> 20 -> [92.14289999999998, 92.15105555555556, 92.15309999999998]\n",
    "\n",
    "TRY 1 -> 15 -> [92.13986666666668, 92.15485185185184, 92.16933333333333]\n",
    "\n",
    "CPU times: user 33min 57s, sys: 3min 13s, total: 37min 11s\n",
    "Wall time: 37min 12s\n",
    "\n",
    "We will take .2 as test size because of above results"
   ]
  },
  {
   "cell_type": "markdown",
   "metadata": {},
   "source": [
    "# Attempt to check which column is useless in determining prime number\n",
    "\n",
    "## How will we know?\n",
    "\n",
    "We know that the accuracy for original dataset with all the columns is 92.16933333333333%.\n",
    "\n",
    "If the score remains same or increases when a column is dropped means it was useless.\n",
    "\n",
    "We will remove each column, run for 50 times and find accuracy mean and store it."
   ]
  },
  {
   "cell_type": "code",
   "execution_count": null,
   "metadata": {
    "scrolled": true
   },
   "outputs": [
    {
     "name": "stdout",
     "output_type": "stream",
     "text": [
      "( 1 )-> values -> Accuracy: 92.13759999999999 %\n",
      "\n",
      "( 2 )-> Mod_of_2 -> Accuracy: 92.156375 %\n",
      "\n",
      "( 3 )-> Div_by_2 -> Accuracy: 92.16035000000001 %\n",
      "\n",
      "( 4 )-> Mod_of_3 -> Accuracy: 92.1446 %\n",
      "\n",
      "( 5 )-> Div_by_3 -> Accuracy: 92.15859999999999 %\n",
      "\n",
      "( 6 )-> Mod_of_4 -> Accuracy: 92.1457 %\n",
      "\n",
      "( 7 )-> Div_by_4 -> Accuracy: 92.137 %\n",
      "\n",
      "( 8 )-> Mod_of_5 -> Accuracy: 92.1682 %\n",
      "\n",
      "( 9 )-> Div_by_5 -> Accuracy: 92.16452500000001 %\n",
      "\n",
      "( 10 )-> Mod_of_6 -> Accuracy: 92.174575 %\n",
      "\n",
      "( 11 )-> Div_by_6 -> Accuracy: 92.15292500000001 %\n",
      "\n",
      "( 12 )-> Mod_of_7 -> Accuracy: 92.128725 %\n",
      "\n",
      "( 13 )-> Div_by_7 -> Accuracy: 92.14565000000002 %\n",
      "\n",
      "( 14 )-> Mod_of_8 -> Accuracy: 92.12269999999998 %\n",
      "\n",
      "( 15 )-> Div_by_8 -> Accuracy: 92.15655000000001 %\n",
      "\n",
      "( 16 )-> Mod_of_9 -> Accuracy: 92.15082500000001 %\n",
      "\n",
      "( 17 )-> Div_by_9 -> Accuracy: 92.14365000000001 %\n",
      "\n",
      "( 18 )-> Mod_of_10 -> Accuracy: 92.1531 %\n",
      "\n",
      "( 19 )-> Div_by_10 -> Accuracy: 92.14815000000002 %\n",
      "\n",
      "( 20 )-> Mod_of_11 -> Accuracy: 92.1478 %\n",
      "\n",
      "( 21 )-> Div_by_11 -> Accuracy: 92.15795 %\n",
      "\n",
      "( 22 )-> Mod_of_12 -> Accuracy: 92.17677499999999 %\n",
      "\n",
      "( 23 )-> Div_by_12 -> Accuracy: 92.1585 %\n",
      "\n",
      "( 24 )-> Mod_of_13 -> Accuracy: 92.16582500000001 %\n",
      "\n",
      "( 25 )-> Div_by_13 -> Accuracy: 92.14410000000001 %\n",
      "\n",
      "( 26 )-> Mod_of_14 -> Accuracy: 92.14469999999999 %\n",
      "\n",
      "( 27 )-> Div_by_14 -> Accuracy: 92.15412500000001 %\n",
      "\n",
      "( 28 )-> Mod_of_15 -> Accuracy: 92.15767500000001 %\n",
      "\n",
      "( 29 )-> Div_by_15 -> Accuracy: 92.146725 %\n",
      "\n",
      "( 30 )-> Mod_of_16 -> Accuracy: 92.13585 %\n",
      "\n",
      "( 31 )-> Div_by_16 -> Accuracy: 92.1503 %\n",
      "\n",
      "( 32 )-> Mod_of_17 -> Accuracy: 92.139825 %\n",
      "\n",
      "( 33 )-> Div_by_17 -> Accuracy: 92.133725 %\n",
      "\n",
      "( 34 )-> Mod_of_18 -> Accuracy: 92.17167500000001 %\n",
      "\n",
      "( 35 )-> Div_by_18 -> Accuracy: 92.13402499999998 %\n",
      "\n",
      "( 36 )-> Mod_of_19 -> Accuracy: 92.14159999999998 %\n",
      "\n",
      "( 37 )-> Div_by_19 -> Accuracy: 92.14955 %\n",
      "\n",
      "( 38 )-> Sum of digits -> Accuracy: 92.15700000000001 %\n",
      "\n",
      "( 39 )-> lsb_digit -> Accuracy: 92.137425 %\n",
      "\n",
      "( 40 )-> msb_digit -> Accuracy: 92.160225 %\n",
      "\n",
      "( 41 )-> log2 -> Accuracy: 92.14914999999999 %\n",
      "\n",
      "( 42 )-> log10 -> "
     ]
    }
   ],
   "source": [
    "np.random.seed(1337) \n",
    "namelist=[]\n",
    "accuracylist=[]\n",
    "#X = df.drop(\"isprime\", axis=1) # Training & Validation data\n",
    "Y = df[\"isprime\"]              # Response / Target Variable\n",
    "for i in range(1,53):\n",
    "    macc=[]\n",
    "    print(\"(\",i,\")->\",df.columns[i],end=\" -> \")\n",
    "    namelist.append(df.columns[i])\n",
    "    for k in range(0,20):\n",
    "        X = df.drop(\"isprime\", axis=1)\n",
    "        Xtemp = X.drop(df.columns[i],axis=1)\n",
    "        X_train, X_test, Y_train, Y_test = train_test_split(Xtemp, Y, test_size=0.20)\n",
    "        logreg = LogisticRegression()                                # instantiate\n",
    "        logreg.fit(X_train, Y_train)                                 # fit\n",
    "        Y_pred = logreg.predict(X_test)                               # predict\n",
    "        acc_logreg = sum(Y_pred == Y_test)/len(Y_test)*100# evaluate\n",
    "        macc.append(acc_logreg)\n",
    "    io = sum(macc)/20\n",
    "    accuracylist.append(io)\n",
    "    print('Accuracy:', str(io),'%\\n')"
   ]
  },
  {
   "cell_type": "markdown",
   "metadata": {},
   "source": [
    "( 1 )-> values -> Accuracy: 92.12986666666666 %\n",
    "\n",
    "( 2 )-> Mod_of_2 -> Accuracy: 92.15450000000003 %\n",
    "\n",
    "( 3 )-> Div_by_2 -> Accuracy: 92.16933333333333 %\n",
    "\n",
    "( 4 )-> Mod_of_3 -> Accuracy: 92.15206666666668 %\n",
    "\n",
    "( 5 )-> Div_by_3 -> Accuracy: 92.14566666666668 %\n",
    "\n",
    "( 6 )-> Mod_of_4 -> Accuracy: 92.15326666666665 %\n",
    "\n",
    "( 7 )-> Div_by_4 -> Accuracy: 92.15210000000002 %\n",
    "\n",
    "( 8 )-> Mod_of_5 -> Accuracy: 92.14750000000001 %\n",
    "\n",
    "( 9 )-> Div_by_5 -> Accuracy: 92.1385 %\n",
    "\n",
    "( 10 )-> Mod_of_6 -> Accuracy: 92.16276666666666 %\n",
    "\n",
    "( 11 )-> Div_by_6 -> Accuracy: 92.15329999999999 %\n",
    "\n",
    "( 12 )-> Mod_of_7 -> Accuracy: 92.17173333333334 %\n",
    "\n",
    "( 13 )-> Div_by_7 -> Accuracy: 92.17676666666667 %\n",
    "\n",
    "( 14 )-> Mod_of_8 -> Accuracy: 92.15693333333333 %\n",
    "\n",
    "( 15 )-> Div_by_8 -> Accuracy: 92.13910000000001 %\n",
    "\n",
    "( 16 )-> Mod_of_9 -> Accuracy: 92.13550000000002 %\n",
    "\n",
    "( 17 )-> Div_by_9 -> Accuracy: 92.14923333333334 %\n",
    "\n",
    "( 18 )-> Mod_of_10 -> Accuracy: 92.12596666666667 %\n",
    "\n",
    "( 19 )-> Div_by_10 -> Accuracy: 92.13049999999998 %\n",
    "\n",
    "( 20 )-> Mod_of_11 -> Accuracy: 92.16083333333331 %\n",
    "\n",
    "( 21 )-> Div_by_11 -> Accuracy: 92.13776666666668 %\n",
    "\n",
    "( 22 )-> Mod_of_12 -> Accuracy: 92.15536666666667 %\n",
    "\n",
    "( 23 )-> Div_by_12 -> Accuracy: 92.13496666666667 %\n",
    "\n",
    "( 24 )-> Mod_of_13 -> Accuracy: 92.16866666666667 %\n",
    "\n",
    "( 25 )-> Div_by_13 -> Accuracy: 92.14306666666668 %\n",
    "\n",
    "( 26 )-> Mod_of_14 -> Accuracy: 92.14063333333334 %\n",
    "\n",
    "( 27 )-> Div_by_14 -> Accuracy: 92.15673333333332 %\n",
    "\n",
    "( 28 )-> Mod_of_15 -> Accuracy: 92.16476666666668 %\n",
    "\n",
    "( 29 )-> Div_by_15 -> Accuracy: 92.17233333333333 %\n",
    "\n",
    "( 30 )-> Mod_of_16 -> Accuracy: 92.17246666666666 %\n",
    "\n",
    "( 31 )-> Div_by_16 -> Accuracy: 92.1604 %\n",
    "\n",
    "( 32 )-> Mod_of_17 -> Accuracy: 92.16293333333333 %\n",
    "\n",
    "( 33 )-> Div_by_17 -> Accuracy: 92.14563333333334 %\n",
    "\n",
    "( 34 )-> Mod_of_18 -> Accuracy: 92.14373333333332 %\n",
    "\n",
    "( 35 )-> Div_by_18 -> Accuracy: 92.14670000000001 %\n",
    "\n",
    "( 36 )-> Mod_of_19 -> Accuracy: 92.15450000000001 %\n",
    "\n",
    "( 37 )-> Div_by_19 -> Accuracy: 92.14723333333336 %\n",
    "\n",
    "( 38 )-> Sum of digits -> Accuracy: 92.17563333333334 %\n",
    "\n",
    "( 39 )-> lsb_digit -> Accuracy: 92.1278 %\n",
    "\n",
    "( 40 )-> msb_digit -> Accuracy: 92.13633333333334 %\n",
    "\n",
    "( 41 )-> log2 -> Accuracy: 92.14859999999999 %\n",
    "\n",
    "( 42 )-> log10 -> Accuracy: 92.15209999999999 %\n",
    "\n",
    "( 43 )-> loge -> Accuracy: 92.1237 %\n",
    "\n",
    "( 44 )-> productofdigits -> Accuracy: 92.14073333333333 %\n",
    "\n",
    "( 45 )-> sqroot_productofdigits -> Accuracy: 92.16586666666667 %\n",
    "\n",
    "( 46 )-> cuberoot_productofdigits -> Accuracy: 92.15979999999999 %\n",
    "\n",
    "( 47 )-> cuberoot_sumofdigits -> Accuracy: 92.13916666666667 %\n",
    "\n",
    "( 48 )-> sqroot_sumofdigits -> Accuracy: 92.13156666666667 %\n",
    "\n",
    "( 49 )-> sqroot_number -> Accuracy: 92.13626666666669 %\n",
    "\n",
    "( 50 )-> cuberoot_number -> Accuracy: 92.15683333333332 %\n",
    "\n",
    "( 51 )-> DivByPi -> Accuracy: 92.14483333333334 %\n",
    "\n",
    "( 52 )-> DivBy_e -> Accuracy: 92.14696666666666 %\n"
   ]
  },
  {
   "cell_type": "code",
   "execution_count": null,
   "metadata": {},
   "outputs": [],
   "source": [
    "namelist"
   ]
  },
  {
   "cell_type": "code",
   "execution_count": null,
   "metadata": {
    "scrolled": false
   },
   "outputs": [],
   "source": [
    "for i in range(0,len(accuracylist)-1):\n",
    "    for j in range(i+1,len(accuracylist)):\n",
    "        if(accuracylist[i]>accuracylist[j]):\n",
    "            temp = accuracylist[i]\n",
    "            accuracylist[i] = accuracylist[j]\n",
    "            accuracylist[j] = temp\n",
    "            temp = namelist[i]\n",
    "            namelist[i] = namelist[j]\n",
    "            namelist[j] = temp\n",
    "line = []\n",
    "for i in range(0,len(namelist)):\n",
    "    line.append(92.16933333333333)\n",
    "plt.plot(line,namelist,linestyle='--')\n",
    "plt.plot(accuracylist,namelist)\n",
    "plt.scatter(accuracylist,namelist)\n",
    "plt.show()  # Note: we don't hav"
   ]
  },
  {
   "cell_type": "markdown",
   "metadata": {},
   "source": [
    "## Image is there in home -> name -> \"logistic graph\""
   ]
  },
  {
   "cell_type": "code",
   "execution_count": null,
   "metadata": {},
   "outputs": [],
   "source": [
    "namelist2 = []\n",
    "accuracylist2 = []\n",
    "for i in range(0,len(namelist)):\n",
    "    if accuracylist[i] >= 92.16933333333333:\n",
    "        accuracylist2.append(accuracylist[i])\n",
    "        namelist2.append(namelist[i])\n",
    "print(namelist2)\n",
    "print(accuracylist2)"
   ]
  },
  {
   "cell_type": "markdown",
   "metadata": {},
   "source": [
    "['Div_by_2', 'Mod_of_7', 'Div_by_15', 'Mod_of_16', 'Sum of digits', 'Div_by_7']\n",
    "\n",
    "[92.16933333333333, 92.17173333333334, 92.17233333333333, 92.17246666666666, 92.17563333333334, 92.17676666666667]"
   ]
  },
  {
   "cell_type": "markdown",
   "metadata": {},
   "source": [
    "# Confirming the hypothesis - \n",
    "\n",
    "list l1 columns should be removed."
   ]
  },
  {
   "cell_type": "code",
   "execution_count": null,
   "metadata": {
    "scrolled": true
   },
   "outputs": [],
   "source": [
    "namelist2.append(\"isprime\")\n",
    "namelist2"
   ]
  },
  {
   "cell_type": "markdown",
   "metadata": {},
   "source": [
    "['Div_by_2',\n",
    " 'Mod_of_7',\n",
    " 'Div_by_15',\n",
    " 'Mod_of_16',\n",
    " 'Sum of digits',\n",
    " 'Div_by_7',\n",
    " 'isprime']"
   ]
  },
  {
   "cell_type": "code",
   "execution_count": null,
   "metadata": {
    "scrolled": true
   },
   "outputs": [],
   "source": [
    "%%time\n",
    "np.random.seed(1337) # set random seed for reproducibility\n",
    "m1=[]\n",
    "numm = 15\n",
    "for i in range(0,numm):    \n",
    "    X = df.drop(namelist2, axis=1) # Training & Validation data\n",
    "    Y = df[\"isprime\"]          \n",
    "    #X = df.drop(l1, axis=1) # Training & Validation data\n",
    "    Y = df[\"isprime\"]              # Response / Target Variable\n",
    "    X_train, X_test, Y_train, Y_test = train_test_split(X, Y, test_size=0.20)\n",
    "    logreg = LogisticRegression()                                # instantiate\n",
    "    logreg.fit(X_train, Y_train)                                 # fit\n",
    "    Y_pred = logreg.predict(X_test)                               # predict\n",
    "    acc_logreg = sum(Y_pred == Y_test)/len(Y_test)*100                # evaluate\n",
    "    m1.append(acc_logreg)\n",
    "    clear_output()\n",
    "    print(int(i+1),\" out of \", numm)"
   ]
  },
  {
   "cell_type": "markdown",
   "metadata": {},
   "source": [
    "15  out of  15\n",
    "\n",
    "CPU times: user 1min 48s, sys: 9.51 s, total: 1min 57s\n",
    "            \n",
    "Wall time: 1min 58s"
   ]
  },
  {
   "cell_type": "code",
   "execution_count": null,
   "metadata": {},
   "outputs": [],
   "source": [
    "ans = sum(m1)/numm\n",
    "print(ans)"
   ]
  },
  {
   "cell_type": "markdown",
   "metadata": {},
   "source": [
    "92.12986666666666"
   ]
  },
  {
   "cell_type": "markdown",
   "metadata": {},
   "source": [
    "#### Result for logistic regression is not that promising due to biasing present in dataset. The dataset contains many values for non prime numbers and few values of prime numbers.\n"
   ]
  },
  {
   "cell_type": "markdown",
   "metadata": {
    "scrolled": true
   },
   "source": [
    "# Now, We will try to reduce the bias and re-run the same code, still of results are bad then we will discard this model and move to more sophesticated one like decision tree or random forest."
   ]
  },
  {
   "cell_type": "markdown",
   "metadata": {},
   "source": [
    "# -----------------------------------------------------------------------\n",
    "# for mudit -> Try generalization approach, have approximately equal percentage of prime and non prime numbers."
   ]
  },
  {
   "cell_type": "code",
   "execution_count": null,
   "metadata": {},
   "outputs": [],
   "source": [
    "ctr=0\n",
    "for i in range(0,len(df)):\n",
    "    if(df['isprime'][i]==1):\n",
    "        ctr=ctr+1\n",
    "print(\"primes -\",ctr)\n",
    "print(\"not primes -\",len(df)-ctr)"
   ]
  },
  {
   "cell_type": "code",
   "execution_count": null,
   "metadata": {},
   "outputs": [],
   "source": [
    "78498/921500"
   ]
  },
  {
   "cell_type": "code",
   "execution_count": null,
   "metadata": {},
   "outputs": [],
   "source": [
    "target_count = df['isprime'].value_counts()\n",
    "target_count"
   ]
  },
  {
   "cell_type": "code",
   "execution_count": null,
   "metadata": {},
   "outputs": [],
   "source": [
    "\n",
    "# What is base line for prediction accuracy?\n",
    "\n",
    "target_count[0]/(sum(target_count))"
   ]
  },
  {
   "cell_type": "code",
   "execution_count": null,
   "metadata": {},
   "outputs": [],
   "source": []
  }
 ],
 "metadata": {
  "kernelspec": {
   "display_name": "Python 3",
   "language": "python",
   "name": "python3"
  },
  "language_info": {
   "codemirror_mode": {
    "name": "ipython",
    "version": 3
   },
   "file_extension": ".py",
   "mimetype": "text/x-python",
   "name": "python",
   "nbconvert_exporter": "python",
   "pygments_lexer": "ipython3",
   "version": "3.6.8"
  }
 },
 "nbformat": 4,
 "nbformat_minor": 2
}
